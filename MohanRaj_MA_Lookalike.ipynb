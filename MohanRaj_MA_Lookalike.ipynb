{
 "cells": [
  {
   "cell_type": "markdown",
   "id": "0e9cc915",
   "metadata": {},
   "source": [
    "Import Libraries"
   ]
  },
  {
   "cell_type": "code",
   "execution_count": 2,
   "id": "6ef48798-e209-43cc-81ab-24f346bc3213",
   "metadata": {},
   "outputs": [],
   "source": [
    "import pandas as pd\n",
    "import numpy as np\n",
    "from sklearn.metrics.pairwise import cosine_similarity\n",
    "from sklearn.preprocessing import StandardScaler\n",
    "from sklearn.decomposition import PCA\n"
   ]
  },
  {
   "cell_type": "markdown",
   "id": "ba88fcb1",
   "metadata": {},
   "source": [
    "Load and Prepare Data"
   ]
  },
  {
   "cell_type": "code",
   "execution_count": 3,
   "id": "65b54a89-5496-4b43-bfca-a93bcdf2867a",
   "metadata": {},
   "outputs": [],
   "source": [
    "customers = pd.read_csv('Customers.csv')\n",
    "transactions = pd.read_csv('Transactions.csv')\n",
    "products = pd.read_csv('Products.csv')"
   ]
  },
  {
   "cell_type": "code",
   "execution_count": 4,
   "id": "edaac0f8-ab8a-450a-8215-4a3f174806e9",
   "metadata": {},
   "outputs": [],
   "source": [
    "transactions_products = pd.merge(transactions, products, on='ProductID', how='left')\n",
    "full_data = pd.merge(transactions_products, customers, on='CustomerID', how='left')"
   ]
  },
  {
   "cell_type": "code",
   "execution_count": 5,
   "id": "5e8481fb-bd69-4429-a645-812856dbee36",
   "metadata": {},
   "outputs": [],
   "source": [
    "customer_profiles = full_data.groupby('CustomerID').agg({\n",
    "    'TotalValue': ['sum', 'mean'],  # Total and average spend\n",
    "    'TransactionID': 'count',       # Total transaction count\n",
    "    'Category': lambda x: x.mode()[0],  # Most preferred category\n",
    "    'TransactionDate': 'max'        # Last transaction date for recency\n",
    "}).reset_index()"
   ]
  },
  {
   "cell_type": "code",
   "execution_count": 6,
   "id": "dedb2e4f-65ec-4ec1-b720-b2c70f693031",
   "metadata": {},
   "outputs": [],
   "source": [
    "customer_profiles.columns = ['CustomerID', 'TotalSpend', 'AverageSpend', 'TransactionCount', 'PreferredCategory', 'LastTransactionDate']\n",
    "customer_profiles['LastTransactionDate'] = pd.to_datetime(customer_profiles['LastTransactionDate'])\n",
    "customer_profiles['Recency'] = (pd.to_datetime('today') - customer_profiles['LastTransactionDate']).dt.days\n",
    "customer_profiles = pd.get_dummies(customer_profiles, columns=['PreferredCategory'], prefix='Category')\n"
   ]
  },
  {
   "cell_type": "code",
   "execution_count": 7,
   "id": "7f29b9d5-9514-4511-be38-003e5d50be28",
   "metadata": {},
   "outputs": [],
   "source": [
    "customer_profiles['Frequency'] = customer_profiles['TransactionCount'] / customer_profiles['Recency']"
   ]
  },
  {
   "cell_type": "markdown",
   "id": "5556a4ee",
   "metadata": {},
   "source": [
    "Compute Similarity"
   ]
  },
  {
   "cell_type": "code",
   "execution_count": 8,
   "id": "49f20353-8e7c-4fd3-b1df-cc8d24255d8f",
   "metadata": {},
   "outputs": [],
   "source": [
    "scaler = StandardScaler()\n",
    "features = customer_profiles.drop(['CustomerID', 'LastTransactionDate'], axis=1)\n",
    "scaled_features = scaler.fit_transform(features)\n"
   ]
  },
  {
   "cell_type": "code",
   "execution_count": 9,
   "id": "ae002baa-3de6-4cc9-b1e6-f58e82d287df",
   "metadata": {},
   "outputs": [],
   "source": [
    "pca = PCA(n_components=0.95)  \n",
    "reduced_features = pca.fit_transform(scaled_features)"
   ]
  },
  {
   "cell_type": "code",
   "execution_count": 10,
   "id": "62266013-a139-432d-b893-55d420bf51b4",
   "metadata": {},
   "outputs": [],
   "source": [
    "similarity_matrix = cosine_similarity(reduced_features)\n",
    "similarity_df = pd.DataFrame(similarity_matrix, index=customer_profiles['CustomerID'], columns=customer_profiles['CustomerID'])\n"
   ]
  },
  {
   "cell_type": "code",
   "execution_count": 11,
   "id": "080e4dfe-d002-4a29-834c-ad6ad901f7dd",
   "metadata": {},
   "outputs": [],
   "source": [
    "lookalike_results = {}\n",
    "\n",
    "for customer_id in customer_profiles['CustomerID'][:20]:  # First 20 customers\n",
    "    similar_customers = similarity_df[customer_id].sort_values(ascending=False)[1:4]  # Top 3 lookalikes\n",
    "    lookalike_results[customer_id] = list(zip(similar_customers.index, similar_customers.values))\n"
   ]
  },
  {
   "cell_type": "markdown",
   "id": "3d553cd8",
   "metadata": {},
   "source": [
    "Save to CSV"
   ]
  },
  {
   "cell_type": "code",
   "execution_count": 12,
   "id": "ccea814c-fc3a-4d98-9a37-7d438189e3fa",
   "metadata": {},
   "outputs": [],
   "source": [
    "lookalike_df = pd.DataFrame({\n",
    "    'cust_id': lookalike_results.keys(),\n",
    "    'lookalike_list': lookalike_results.values()\n",
    "})\n",
    "lookalike_df.to_csv('LookalikeImproved.csv', index=False)"
   ]
  },
  {
   "cell_type": "code",
   "execution_count": 13,
   "id": "5c51de39-d59d-49a1-8820-5757984a1f53",
   "metadata": {},
   "outputs": [
    {
     "name": "stdout",
     "output_type": "stream",
     "text": [
      "Lookalike recommendations saved in 'LookalikeImproved.csv'\n"
     ]
    },
    {
     "data": {
      "text/html": [
       "<div>\n",
       "<style scoped>\n",
       "    .dataframe tbody tr th:only-of-type {\n",
       "        vertical-align: middle;\n",
       "    }\n",
       "\n",
       "    .dataframe tbody tr th {\n",
       "        vertical-align: top;\n",
       "    }\n",
       "\n",
       "    .dataframe thead th {\n",
       "        text-align: right;\n",
       "    }\n",
       "</style>\n",
       "<table border=\"1\" class=\"dataframe\">\n",
       "  <thead>\n",
       "    <tr style=\"text-align: right;\">\n",
       "      <th></th>\n",
       "      <th>cust_id</th>\n",
       "      <th>lookalike_list</th>\n",
       "    </tr>\n",
       "  </thead>\n",
       "  <tbody>\n",
       "    <tr>\n",
       "      <th>0</th>\n",
       "      <td>C0001</td>\n",
       "      <td>[(C0072, 0.9863938573024578), (C0039, 0.948284...</td>\n",
       "    </tr>\n",
       "    <tr>\n",
       "      <th>1</th>\n",
       "      <td>C0002</td>\n",
       "      <td>[(C0010, 0.9894837994036254), (C0029, 0.966585...</td>\n",
       "    </tr>\n",
       "    <tr>\n",
       "      <th>2</th>\n",
       "      <td>C0003</td>\n",
       "      <td>[(C0052, 0.9929435059730934), (C0160, 0.969243...</td>\n",
       "    </tr>\n",
       "    <tr>\n",
       "      <th>3</th>\n",
       "      <td>C0004</td>\n",
       "      <td>[(C0101, 0.9977380282922208), (C0075, 0.985137...</td>\n",
       "    </tr>\n",
       "    <tr>\n",
       "      <th>4</th>\n",
       "      <td>C0005</td>\n",
       "      <td>[(C0186, 0.985385214782424), (C0095, 0.9657818...</td>\n",
       "    </tr>\n",
       "  </tbody>\n",
       "</table>\n",
       "</div>"
      ],
      "text/plain": [
       "  cust_id                                     lookalike_list\n",
       "0   C0001  [(C0072, 0.9863938573024578), (C0039, 0.948284...\n",
       "1   C0002  [(C0010, 0.9894837994036254), (C0029, 0.966585...\n",
       "2   C0003  [(C0052, 0.9929435059730934), (C0160, 0.969243...\n",
       "3   C0004  [(C0101, 0.9977380282922208), (C0075, 0.985137...\n",
       "4   C0005  [(C0186, 0.985385214782424), (C0095, 0.9657818..."
      ]
     },
     "execution_count": 13,
     "metadata": {},
     "output_type": "execute_result"
    }
   ],
   "source": [
    "print(\"Lookalike recommendations saved in 'LookalikeImproved.csv'\")\n",
    "lookalike_df.head()"
   ]
  }
 ],
 "metadata": {
  "kernelspec": {
   "display_name": "base",
   "language": "python",
   "name": "python3"
  },
  "language_info": {
   "codemirror_mode": {
    "name": "ipython",
    "version": 3
   },
   "file_extension": ".py",
   "mimetype": "text/x-python",
   "name": "python",
   "nbconvert_exporter": "python",
   "pygments_lexer": "ipython3",
   "version": "3.12.3"
  }
 },
 "nbformat": 4,
 "nbformat_minor": 5
}
